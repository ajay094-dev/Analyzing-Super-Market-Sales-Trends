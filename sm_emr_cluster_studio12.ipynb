{
 "cells": [
  {
   "cell_type": "code",
   "execution_count": 1,
   "id": "5db607a8-e3b0-45af-8abc-1db06265588f",
   "metadata": {
    "execution": {
     "iopub.execute_input": "2024-05-13T20:13:48.877158Z",
     "iopub.status.busy": "2024-05-13T20:13:48.876834Z",
     "iopub.status.idle": "2024-05-13T20:14:47.862704Z",
     "shell.execute_reply": "2024-05-13T20:14:47.862018Z",
     "shell.execute_reply.started": "2024-05-13T20:13:48.877121Z"
    }
   },
   "outputs": [
    {
     "data": {
      "application/vnd.jupyter.widget-view+json": {
       "model_id": "31f3a4d8ef434ba8bdea23a1e69d0047",
       "version_major": 2,
       "version_minor": 0
      },
      "text/plain": [
       "VBox()"
      ]
     },
     "metadata": {},
     "output_type": "display_data"
    },
    {
     "name": "stdout",
     "output_type": "stream",
     "text": [
      "Starting Spark application\n"
     ]
    },
    {
     "data": {
      "text/html": [
       "<table>\n<tbody><tr><th>ID</th><th>YARN Application ID</th><th>Kind</th><th>State</th><th>Spark UI</th><th>Driver log</th><th>User</th><th>Current session?</th></tr><tr><td>0</td><td>application_1715630291204_0001</td><td>pyspark</td><td>idle</td><td><a target=\"_blank\" href=\"http://ip-10-0-27-188.us-east-2.compute.internal:20888/proxy/application_1715630291204_0001/\" class=\"emr-proxy-link j-12VDAM7PSQM1Z application_1715630291204_0001\" emr-resource=\"j-12VDAM7PSQM1Z\n\" application-id=\"application_1715630291204_0001\">Link</a></td><td><a target=\"_blank\" href=\"http://ip-10-0-19-206.us-east-2.compute.internal:8042/node/containerlogs/container_1715630291204_0001_01_000001/livy\">Link</a></td><td>None</td><td>✔</td></tr></tbody></table>"
      ],
      "text/plain": [
       "<IPython.core.display.HTML object>"
      ]
     },
     "metadata": {},
     "output_type": "display_data"
    },
    {
     "data": {
      "application/vnd.jupyter.widget-view+json": {
       "model_id": "",
       "version_major": 2,
       "version_minor": 0
      },
      "text/plain": [
       "FloatProgress(value=0.0, bar_style='info', description='Progress:', layout=Layout(height='25px', width='50%'),…"
      ]
     },
     "metadata": {},
     "output_type": "display_data"
    },
    {
     "name": "stdout",
     "output_type": "stream",
     "text": [
      "SparkSession available as 'spark'.\n"
     ]
    },
    {
     "data": {
      "application/vnd.jupyter.widget-view+json": {
       "model_id": "",
       "version_major": 2,
       "version_minor": 0
      },
      "text/plain": [
       "FloatProgress(value=0.0, bar_style='info', description='Progress:', layout=Layout(height='25px', width='50%'),…"
      ]
     },
     "metadata": {},
     "output_type": "display_data"
    }
   ],
   "source": [
    "import pyspark\n",
    "from pyspark.sql import SparkSession\n",
    "\n",
    "# Create a SparkSession\n",
    "spark = SparkSession.builder.appName(\"SuperMarketSalesForecast\").getOrCreate()\n",
    "\n",
    "# Read the CSV files and create Spark DataFrames\n",
    "train_df = spark.read.csv('s3://sm-studio-bucket/SuperMarketSalesDataInput/train.csv', header=True, inferSchema=True)\n",
    "store_df = spark.read.csv('s3://sm-studio-bucket/SuperMarketSalesDataInput/stores.csv', header=True, inferSchema=True)\n",
    "feature_df = spark.read.csv('s3://sm-studio-bucket/SuperMarketSalesDataInput/features.csv', header=True, inferSchema=True)\n",
    "test_df = spark.read.csv('s3://sm-studio-bucket/SuperMarketSalesDataInput/test.csv', header=True, inferSchema=True)"
   ]
  },
  {
   "cell_type": "code",
   "execution_count": 6,
   "id": "c58fa71b-fe8a-4e07-829f-2cc0c8596ce2",
   "metadata": {
    "execution": {
     "iopub.execute_input": "2024-05-13T20:17:56.459760Z",
     "iopub.status.busy": "2024-05-13T20:17:56.459545Z",
     "iopub.status.idle": "2024-05-13T20:18:03.777735Z",
     "shell.execute_reply": "2024-05-13T20:18:03.776857Z",
     "shell.execute_reply.started": "2024-05-13T20:17:56.459736Z"
    },
    "tags": []
   },
   "outputs": [
    {
     "data": {
      "application/vnd.jupyter.widget-view+json": {
       "model_id": "7e63b5bf73834a5db5446b6aa4e1e3bc",
       "version_major": 2,
       "version_minor": 0
      },
      "text/plain": [
       "VBox()"
      ]
     },
     "metadata": {},
     "output_type": "display_data"
    },
    {
     "data": {
      "application/vnd.jupyter.widget-view+json": {
       "model_id": "",
       "version_major": 2,
       "version_minor": 0
      },
      "text/plain": [
       "FloatProgress(value=0.0, bar_style='info', description='Progress:', layout=Layout(height='25px', width='50%'),…"
      ]
     },
     "metadata": {},
     "output_type": "display_data"
    },
    {
     "name": "stdout",
     "output_type": "stream",
     "text": [
      "root\n",
      " |-- Store: integer (nullable = true)\n",
      " |-- Dept: integer (nullable = true)\n",
      " |-- Date: date (nullable = true)\n",
      " |-- Weekly_Sales: double (nullable = true)\n",
      " |-- IsHoliday: boolean (nullable = true)\n",
      "\n",
      "+-----+----+----------+------------+---------+\n",
      "|Store|Dept|      Date|Weekly_Sales|IsHoliday|\n",
      "+-----+----+----------+------------+---------+\n",
      "|    1|   1|2010-02-05|     24924.5|    false|\n",
      "|    1|   1|2010-02-12|    46039.49|     true|\n",
      "|    1|   1|2010-02-19|    41595.55|    false|\n",
      "|    1|   1|2010-02-26|    19403.54|    false|\n",
      "|    1|   1|2010-03-05|     21827.9|    false|\n",
      "+-----+----+----------+------------+---------+\n",
      "only showing top 5 rows"
     ]
    }
   ],
   "source": [
    "train_df.printSchema()\n",
    "# Print the first 5 rows of each DataFrame\n",
    "train_df.show(5)"
   ]
  },
  {
   "cell_type": "code",
   "execution_count": 7,
   "id": "19b5b314-2d7a-4de2-80a0-7c0fce0eff22",
   "metadata": {
    "execution": {
     "iopub.execute_input": "2024-05-13T20:18:34.243344Z",
     "iopub.status.busy": "2024-05-13T20:18:34.243109Z",
     "iopub.status.idle": "2024-05-13T20:18:35.009098Z",
     "shell.execute_reply": "2024-05-13T20:18:35.008398Z",
     "shell.execute_reply.started": "2024-05-13T20:18:34.243320Z"
    },
    "tags": []
   },
   "outputs": [
    {
     "data": {
      "application/vnd.jupyter.widget-view+json": {
       "model_id": "1c6503588ffd4645b05093de5f934481",
       "version_major": 2,
       "version_minor": 0
      },
      "text/plain": [
       "VBox()"
      ]
     },
     "metadata": {},
     "output_type": "display_data"
    },
    {
     "data": {
      "application/vnd.jupyter.widget-view+json": {
       "model_id": "",
       "version_major": 2,
       "version_minor": 0
      },
      "text/plain": [
       "FloatProgress(value=0.0, bar_style='info', description='Progress:', layout=Layout(height='25px', width='50%'),…"
      ]
     },
     "metadata": {},
     "output_type": "display_data"
    },
    {
     "name": "stdout",
     "output_type": "stream",
     "text": [
      "root\n",
      " |-- Store: integer (nullable = true)\n",
      " |-- Type: string (nullable = true)\n",
      " |-- Size: integer (nullable = true)\n",
      "\n",
      "+-----+----+------+\n",
      "|Store|Type|  Size|\n",
      "+-----+----+------+\n",
      "|    1|   A|151315|\n",
      "|    2|   A|202307|\n",
      "|    3|   B| 37392|\n",
      "|    4|   A|205863|\n",
      "|    5|   B| 34875|\n",
      "+-----+----+------+\n",
      "only showing top 5 rows"
     ]
    }
   ],
   "source": [
    "store_df.printSchema()\n",
    "store_df.show(5)"
   ]
  },
  {
   "cell_type": "code",
   "execution_count": 8,
   "id": "f75f7b28-cc22-4343-aee8-9a359558f5f9",
   "metadata": {
    "execution": {
     "iopub.execute_input": "2024-05-13T20:18:50.844873Z",
     "iopub.status.busy": "2024-05-13T20:18:50.844499Z",
     "iopub.status.idle": "2024-05-13T20:18:51.609642Z",
     "shell.execute_reply": "2024-05-13T20:18:51.608891Z",
     "shell.execute_reply.started": "2024-05-13T20:18:50.844841Z"
    },
    "tags": []
   },
   "outputs": [
    {
     "data": {
      "application/vnd.jupyter.widget-view+json": {
       "model_id": "b0b71e91323a4ae78629da2aa74ee7d1",
       "version_major": 2,
       "version_minor": 0
      },
      "text/plain": [
       "VBox()"
      ]
     },
     "metadata": {},
     "output_type": "display_data"
    },
    {
     "data": {
      "application/vnd.jupyter.widget-view+json": {
       "model_id": "",
       "version_major": 2,
       "version_minor": 0
      },
      "text/plain": [
       "FloatProgress(value=0.0, bar_style='info', description='Progress:', layout=Layout(height='25px', width='50%'),…"
      ]
     },
     "metadata": {},
     "output_type": "display_data"
    },
    {
     "name": "stdout",
     "output_type": "stream",
     "text": [
      "root\n",
      " |-- Store: integer (nullable = true)\n",
      " |-- Date: date (nullable = true)\n",
      " |-- Temperature: double (nullable = true)\n",
      " |-- Fuel_Price: double (nullable = true)\n",
      " |-- MarkDown1: string (nullable = true)\n",
      " |-- MarkDown2: string (nullable = true)\n",
      " |-- MarkDown3: string (nullable = true)\n",
      " |-- MarkDown4: string (nullable = true)\n",
      " |-- MarkDown5: string (nullable = true)\n",
      " |-- CPI: string (nullable = true)\n",
      " |-- Unemployment: string (nullable = true)\n",
      " |-- IsHoliday: boolean (nullable = true)\n",
      "\n",
      "+-----+----------+-----------+----------+---------+---------+---------+---------+---------+-----------+------------+---------+\n",
      "|Store|      Date|Temperature|Fuel_Price|MarkDown1|MarkDown2|MarkDown3|MarkDown4|MarkDown5|        CPI|Unemployment|IsHoliday|\n",
      "+-----+----------+-----------+----------+---------+---------+---------+---------+---------+-----------+------------+---------+\n",
      "|    1|2010-02-05|      42.31|     2.572|       NA|       NA|       NA|       NA|       NA|211.0963582|       8.106|    false|\n",
      "|    1|2010-02-12|      38.51|     2.548|       NA|       NA|       NA|       NA|       NA|211.2421698|       8.106|     true|\n",
      "|    1|2010-02-19|      39.93|     2.514|       NA|       NA|       NA|       NA|       NA|211.2891429|       8.106|    false|\n",
      "|    1|2010-02-26|      46.63|     2.561|       NA|       NA|       NA|       NA|       NA|211.3196429|       8.106|    false|\n",
      "|    1|2010-03-05|       46.5|     2.625|       NA|       NA|       NA|       NA|       NA|211.3501429|       8.106|    false|\n",
      "+-----+----------+-----------+----------+---------+---------+---------+---------+---------+-----------+------------+---------+\n",
      "only showing top 5 rows"
     ]
    }
   ],
   "source": [
    "feature_df.printSchema()\n",
    "feature_df.show(5)"
   ]
  },
  {
   "cell_type": "code",
   "execution_count": 9,
   "id": "21417152-358a-4965-9cc6-8b8b5bbd59b1",
   "metadata": {
    "execution": {
     "iopub.execute_input": "2024-05-13T20:19:20.515494Z",
     "iopub.status.busy": "2024-05-13T20:19:20.515262Z",
     "iopub.status.idle": "2024-05-13T20:19:21.275195Z",
     "shell.execute_reply": "2024-05-13T20:19:21.274378Z",
     "shell.execute_reply.started": "2024-05-13T20:19:20.515466Z"
    }
   },
   "outputs": [
    {
     "data": {
      "application/vnd.jupyter.widget-view+json": {
       "model_id": "a2a3d922f2ab41ff813b889078c8d90d",
       "version_major": 2,
       "version_minor": 0
      },
      "text/plain": [
       "VBox()"
      ]
     },
     "metadata": {},
     "output_type": "display_data"
    },
    {
     "data": {
      "application/vnd.jupyter.widget-view+json": {
       "model_id": "",
       "version_major": 2,
       "version_minor": 0
      },
      "text/plain": [
       "FloatProgress(value=0.0, bar_style='info', description='Progress:', layout=Layout(height='25px', width='50%'),…"
      ]
     },
     "metadata": {},
     "output_type": "display_data"
    },
    {
     "name": "stdout",
     "output_type": "stream",
     "text": [
      "root\n",
      " |-- Store: integer (nullable = true)\n",
      " |-- Dept: integer (nullable = true)\n",
      " |-- Date: date (nullable = true)\n",
      " |-- IsHoliday: boolean (nullable = true)\n",
      "\n",
      "+-----+----+----------+---------+\n",
      "|Store|Dept|      Date|IsHoliday|\n",
      "+-----+----+----------+---------+\n",
      "|    1|   1|2012-11-02|    false|\n",
      "|    1|   1|2012-11-09|    false|\n",
      "|    1|   1|2012-11-16|    false|\n",
      "|    1|   1|2012-11-23|     true|\n",
      "|    1|   1|2012-11-30|    false|\n",
      "+-----+----+----------+---------+\n",
      "only showing top 5 rows"
     ]
    }
   ],
   "source": [
    "test_df.printSchema()\n",
    "test_df.show(5)"
   ]
  },
  {
   "cell_type": "code",
   "execution_count": 10,
   "id": "4fce7ed1-dfff-4dcc-8cab-b815c952b304",
   "metadata": {
    "execution": {
     "iopub.execute_input": "2024-05-13T20:19:45.929217Z",
     "iopub.status.busy": "2024-05-13T20:19:45.928994Z",
     "iopub.status.idle": "2024-05-13T20:20:01.260039Z",
     "shell.execute_reply": "2024-05-13T20:20:01.259289Z",
     "shell.execute_reply.started": "2024-05-13T20:19:45.929193Z"
    }
   },
   "outputs": [
    {
     "data": {
      "application/vnd.jupyter.widget-view+json": {
       "model_id": "9706249024334ea496d08f58d03ea982",
       "version_major": 2,
       "version_minor": 0
      },
      "text/plain": [
       "VBox()"
      ]
     },
     "metadata": {},
     "output_type": "display_data"
    },
    {
     "data": {
      "application/vnd.jupyter.widget-view+json": {
       "model_id": "",
       "version_major": 2,
       "version_minor": 0
      },
      "text/plain": [
       "FloatProgress(value=0.0, bar_style='info', description='Progress:', layout=Layout(height='25px', width='50%'),…"
      ]
     },
     "metadata": {},
     "output_type": "display_data"
    },
    {
     "name": "stdout",
     "output_type": "stream",
     "text": [
      "Collecting numpy\n",
      "  Downloading numpy-1.26.4-cp39-cp39-manylinux_2_17_x86_64.manylinux2014_x86_64.whl (18.2 MB)\n",
      "Installing collected packages: numpy\n",
      "Successfully installed numpy-1.26.4\n",
      "\n",
      "WARNING: The directory '/home/.cache/pip' or its parent directory is not owned or is not writable by the current user. The cache has been disabled. Check the permissions and owner of that directory. If executing pip with sudo, you should use sudo's -H flag."
     ]
    }
   ],
   "source": [
    "# install numpy using sc for current spark context\n",
    "sc.install_pypi_package(\"numpy\")"
   ]
  },
  {
   "cell_type": "code",
   "execution_count": 11,
   "id": "b8391c7a-6945-409e-ac3b-6b79a62e118c",
   "metadata": {
    "execution": {
     "iopub.execute_input": "2024-05-13T20:20:38.522927Z",
     "iopub.status.busy": "2024-05-13T20:20:38.522686Z",
     "iopub.status.idle": "2024-05-13T20:20:40.818127Z",
     "shell.execute_reply": "2024-05-13T20:20:40.817337Z",
     "shell.execute_reply.started": "2024-05-13T20:20:38.522899Z"
    }
   },
   "outputs": [
    {
     "data": {
      "application/vnd.jupyter.widget-view+json": {
       "model_id": "a179e5c06db243c6a403e7103a824717",
       "version_major": 2,
       "version_minor": 0
      },
      "text/plain": [
       "VBox()"
      ]
     },
     "metadata": {},
     "output_type": "display_data"
    },
    {
     "data": {
      "application/vnd.jupyter.widget-view+json": {
       "model_id": "",
       "version_major": 2,
       "version_minor": 0
      },
      "text/plain": [
       "FloatProgress(value=0.0, bar_style='info', description='Progress:', layout=Layout(height='25px', width='50%'),…"
      ]
     },
     "metadata": {},
     "output_type": "display_data"
    },
    {
     "name": "stdout",
     "output_type": "stream",
     "text": [
      "+-----+----+-----------+----------+---------+---------+---------+---------+---------+---+------------+---------+\n",
      "|Store|Date|Temperature|Fuel_Price|MarkDown1|MarkDown2|MarkDown3|MarkDown4|MarkDown5|CPI|Unemployment|IsHoliday|\n",
      "+-----+----+-----------+----------+---------+---------+---------+---------+---------+---+------------+---------+\n",
      "|    0|   0|          0|         0|        0|        0|        0|        0|        0|  0|           0|        0|\n",
      "+-----+----+-----------+----------+---------+---------+---------+---------+---------+---+------------+---------+"
     ]
    }
   ],
   "source": [
    "from pyspark.sql.functions import col, sum as spark_sum\n",
    "\n",
    "# Count the null values in each column\n",
    "null_counts = feature_df.select(*[\n",
    "    spark_sum(col(column_name).isNull().cast(\"int\")).alias(column_name)\n",
    "    for column_name in feature_df.columns\n",
    "])\n",
    "\n",
    "# Show the result\n",
    "null_counts.show()"
   ]
  },
  {
   "cell_type": "code",
   "execution_count": 12,
   "id": "7eb8db1f-fe89-4469-9348-4e89591026c6",
   "metadata": {
    "execution": {
     "iopub.execute_input": "2024-05-13T20:20:57.572590Z",
     "iopub.status.busy": "2024-05-13T20:20:57.572368Z",
     "iopub.status.idle": "2024-05-13T20:20:58.346020Z",
     "shell.execute_reply": "2024-05-13T20:20:58.345327Z",
     "shell.execute_reply.started": "2024-05-13T20:20:57.572565Z"
    }
   },
   "outputs": [
    {
     "data": {
      "application/vnd.jupyter.widget-view+json": {
       "model_id": "c82f42ad95b3471290a249ee87180fbd",
       "version_major": 2,
       "version_minor": 0
      },
      "text/plain": [
       "VBox()"
      ]
     },
     "metadata": {},
     "output_type": "display_data"
    },
    {
     "data": {
      "application/vnd.jupyter.widget-view+json": {
       "model_id": "",
       "version_major": 2,
       "version_minor": 0
      },
      "text/plain": [
       "FloatProgress(value=0.0, bar_style='info', description='Progress:', layout=Layout(height='25px', width='50%'),…"
      ]
     },
     "metadata": {},
     "output_type": "display_data"
    },
    {
     "name": "stdout",
     "output_type": "stream",
     "text": [
      "+-----+----------+-----------+----------+-----------+------------+---------+\n",
      "|Store|      Date|Temperature|Fuel_Price|        CPI|Unemployment|IsHoliday|\n",
      "+-----+----------+-----------+----------+-----------+------------+---------+\n",
      "|    1|2010-02-05|      42.31|     2.572|211.0963582|       8.106|    false|\n",
      "|    1|2010-02-12|      38.51|     2.548|211.2421698|       8.106|     true|\n",
      "|    1|2010-02-19|      39.93|     2.514|211.2891429|       8.106|    false|\n",
      "|    1|2010-02-26|      46.63|     2.561|211.3196429|       8.106|    false|\n",
      "|    1|2010-03-05|       46.5|     2.625|211.3501429|       8.106|    false|\n",
      "+-----+----------+-----------+----------+-----------+------------+---------+\n",
      "only showing top 5 rows"
     ]
    }
   ],
   "source": [
    "# Drop the columns with  null values\n",
    "columns_to_drop = ['MarkDown1', 'MarkDown2', 'MarkDown3', 'MarkDown4', 'MarkDown5']\n",
    "\n",
    "# Drop the specified columns\n",
    "feature_df = feature_df.drop(*columns_to_drop)\n",
    "feature_df.show(5)"
   ]
  },
  {
   "cell_type": "code",
   "execution_count": 13,
   "id": "174f58fe-ce87-4fbc-a52b-f80f0eaa6399",
   "metadata": {
    "execution": {
     "iopub.execute_input": "2024-05-13T20:23:47.940943Z",
     "iopub.status.busy": "2024-05-13T20:23:47.940724Z",
     "iopub.status.idle": "2024-05-13T20:23:57.256443Z",
     "shell.execute_reply": "2024-05-13T20:23:57.255652Z",
     "shell.execute_reply.started": "2024-05-13T20:23:47.940918Z"
    }
   },
   "outputs": [
    {
     "data": {
      "application/vnd.jupyter.widget-view+json": {
       "model_id": "9e6ce498fd6341af875522a488acd3d4",
       "version_major": 2,
       "version_minor": 0
      },
      "text/plain": [
       "VBox()"
      ]
     },
     "metadata": {},
     "output_type": "display_data"
    },
    {
     "data": {
      "application/vnd.jupyter.widget-view+json": {
       "model_id": "",
       "version_major": 2,
       "version_minor": 0
      },
      "text/plain": [
       "FloatProgress(value=0.0, bar_style='info', description='Progress:', layout=Layout(height='25px', width='50%'),…"
      ]
     },
     "metadata": {},
     "output_type": "display_data"
    },
    {
     "name": "stdout",
     "output_type": "stream",
     "text": [
      "+-----+----------+---------+----+------------+----+------+-----------+----------+-----------+------------+\n",
      "|Store|      Date|IsHoliday|Dept|Weekly_Sales|Type|  Size|Temperature|Fuel_Price|        CPI|Unemployment|\n",
      "+-----+----------+---------+----+------------+----+------+-----------+----------+-----------+------------+\n",
      "|    1|2010-02-05|    false|   1|     24924.5|   A|151315|      42.31|     2.572|211.0963582|       8.106|\n",
      "|    1|2010-02-12|     true|   1|    46039.49|   A|151315|      38.51|     2.548|211.2421698|       8.106|\n",
      "|    1|2010-02-19|    false|   1|    41595.55|   A|151315|      39.93|     2.514|211.2891429|       8.106|\n",
      "|    1|2010-02-26|    false|   1|    19403.54|   A|151315|      46.63|     2.561|211.3196429|       8.106|\n",
      "|    1|2010-03-05|    false|   1|     21827.9|   A|151315|       46.5|     2.625|211.3501429|       8.106|\n",
      "+-----+----------+---------+----+------------+----+------+-----------+----------+-----------+------------+\n",
      "only showing top 5 rows\n",
      "\n",
      "+-----+----------+---------+----+----+------+-----------+----------+-----------+------------+\n",
      "|Store|      Date|IsHoliday|Dept|Type|  Size|Temperature|Fuel_Price|        CPI|Unemployment|\n",
      "+-----+----------+---------+----+----+------+-----------+----------+-----------+------------+\n",
      "|    1|2012-11-02|    false|   1|   A|151315|      55.32|     3.386|223.4627793|       6.573|\n",
      "|    1|2012-11-09|    false|   1|   A|151315|      61.24|     3.314|223.4813073|       6.573|\n",
      "|    1|2012-11-16|    false|   1|   A|151315|      52.92|     3.252|223.5129105|       6.573|\n",
      "|    1|2012-11-23|     true|   1|   A|151315|      56.23|     3.211|223.5619474|       6.573|\n",
      "|    1|2012-11-30|    false|   1|   A|151315|      52.34|     3.207|223.6109842|       6.573|\n",
      "+-----+----------+---------+----+----+------+-----------+----------+-----------+------------+\n",
      "only showing top 5 rows"
     ]
    }
   ],
   "source": [
    "#join the train and test data with the store and features data\n",
    "train = train_df.join(store_df, on='Store', how='left').join(feature_df, on=['Store', 'Date', 'IsHoliday'], how='left')\n",
    "test = test_df.join(store_df, on='Store', how='left').join(feature_df, on=['Store', 'Date', 'IsHoliday'], how='left')\n",
    "\n",
    "# Show the first few rows of the merged DataFrames (optional)\n",
    "train.show(5)\n",
    "test.show(5)"
   ]
  },
  {
   "cell_type": "code",
   "execution_count": 14,
   "id": "23382b7e-3b9b-4004-817f-b41eeb808d7c",
   "metadata": {
    "execution": {
     "iopub.execute_input": "2024-05-13T20:24:51.015498Z",
     "iopub.status.busy": "2024-05-13T20:24:51.015210Z",
     "iopub.status.idle": "2024-05-13T20:24:51.270183Z",
     "shell.execute_reply": "2024-05-13T20:24:51.269533Z",
     "shell.execute_reply.started": "2024-05-13T20:24:51.015470Z"
    }
   },
   "outputs": [
    {
     "data": {
      "application/vnd.jupyter.widget-view+json": {
       "model_id": "6937489aaa8a4230a75a50794f4b2659",
       "version_major": 2,
       "version_minor": 0
      },
      "text/plain": [
       "VBox()"
      ]
     },
     "metadata": {},
     "output_type": "display_data"
    },
    {
     "data": {
      "application/vnd.jupyter.widget-view+json": {
       "model_id": "",
       "version_major": 2,
       "version_minor": 0
      },
      "text/plain": [
       "FloatProgress(value=0.0, bar_style='info', description='Progress:', layout=Layout(height='25px', width='50%'),…"
      ]
     },
     "metadata": {},
     "output_type": "display_data"
    }
   ],
   "source": [
    "#Replacing 'A','B','C' with 1,2,3 respectively in Type column\n",
    "from pyspark.sql.functions import col, when\n",
    "def maping_type(df):\n",
    "    # map Type column\n",
    "    df = df.withColumn('Type', when(col('Type') == 'A', '1')\n",
    "                              .when(col('Type') == 'B', '2')\n",
    "                              .when(col('Type') == 'C', '3')\n",
    "                              .otherwise(col('Type')))\n",
    "    return df\n",
    "\n",
    "# Call the function and update the DataFrame\n",
    "train=maping_type(train)\n",
    "test=maping_type(test)"
   ]
  },
  {
   "cell_type": "code",
   "execution_count": 15,
   "id": "d9b43348-3bfe-4807-ba5f-919844abb2fd",
   "metadata": {
    "execution": {
     "iopub.execute_input": "2024-05-13T20:25:07.853354Z",
     "iopub.status.busy": "2024-05-13T20:25:07.853135Z",
     "iopub.status.idle": "2024-05-13T20:25:08.114265Z",
     "shell.execute_reply": "2024-05-13T20:25:08.113602Z",
     "shell.execute_reply.started": "2024-05-13T20:25:07.853330Z"
    }
   },
   "outputs": [
    {
     "data": {
      "application/vnd.jupyter.widget-view+json": {
       "model_id": "8e932d069e90497b867df97c4d97c3c4",
       "version_major": 2,
       "version_minor": 0
      },
      "text/plain": [
       "VBox()"
      ]
     },
     "metadata": {},
     "output_type": "display_data"
    },
    {
     "data": {
      "application/vnd.jupyter.widget-view+json": {
       "model_id": "",
       "version_major": 2,
       "version_minor": 0
      },
      "text/plain": [
       "FloatProgress(value=0.0, bar_style='info', description='Progress:', layout=Layout(height='25px', width='50%'),…"
      ]
     },
     "metadata": {},
     "output_type": "display_data"
    }
   ],
   "source": [
    "from pyspark.sql import functions as F\n",
    "#Extracting \"week\",\"month\" and \"year\" using Date column\n",
    "def extract_week(df):\n",
    "    df = df.withColumn(\"week\", F.weekofyear(df[\"Date\"]))\n",
    "    df = df.withColumn(\"month\", F.month(df[\"Date\"]))\n",
    "    df = df.withColumn(\"year\", F.year(df[\"Date\"]))\n",
    "    return df\n",
    "\n",
    "train = extract_week(train)\n",
    "test = extract_week(test)"
   ]
  },
  {
   "cell_type": "code",
   "execution_count": 16,
   "id": "1787ca3f-48b9-4a95-8a3f-3202f7d6dd0f",
   "metadata": {
    "execution": {
     "iopub.execute_input": "2024-05-13T20:25:54.442824Z",
     "iopub.status.busy": "2024-05-13T20:25:54.442559Z",
     "iopub.status.idle": "2024-05-13T20:25:54.698236Z",
     "shell.execute_reply": "2024-05-13T20:25:54.697624Z",
     "shell.execute_reply.started": "2024-05-13T20:25:54.442794Z"
    }
   },
   "outputs": [
    {
     "data": {
      "application/vnd.jupyter.widget-view+json": {
       "model_id": "6eb7709cc77847d49b9046ee98c96ad3",
       "version_major": 2,
       "version_minor": 0
      },
      "text/plain": [
       "VBox()"
      ]
     },
     "metadata": {},
     "output_type": "display_data"
    },
    {
     "data": {
      "application/vnd.jupyter.widget-view+json": {
       "model_id": "",
       "version_major": 2,
       "version_minor": 0
      },
      "text/plain": [
       "FloatProgress(value=0.0, bar_style='info', description='Progress:', layout=Layout(height='25px', width='50%'),…"
      ]
     },
     "metadata": {},
     "output_type": "display_data"
    }
   ],
   "source": [
    "from pyspark.sql.functions import col\n",
    "from pyspark.sql.types import DoubleType\n",
    "from pyspark.sql.types import IntegerType\n",
    "\n",
    "\n",
    "# Convert \"CPI\", \"Type\" and \"Unemployment\" columns to DoubleType\n",
    "train = train.withColumn(\"CPI\", train[\"CPI\"].cast(DoubleType()))\n",
    "train = train.withColumn(\"Unemployment\", train[\"Unemployment\"].cast(DoubleType()))\n",
    "\n",
    "test = test.withColumn(\"CPI\", test[\"CPI\"].cast(DoubleType()))\n",
    "test = test.withColumn(\"Unemployment\", test[\"Unemployment\"].cast(DoubleType()))\n",
    "\n",
    "test = test.withColumn(\"Type\", test[\"Type\"].cast(IntegerType()))\n",
    "train = train.withColumn(\"Type\", train[\"Type\"].cast(IntegerType()))"
   ]
  },
  {
   "cell_type": "code",
   "execution_count": 17,
   "id": "2b4cc229-7842-4f64-948e-84603079cbc4",
   "metadata": {
    "execution": {
     "iopub.execute_input": "2024-05-13T20:26:29.153829Z",
     "iopub.status.busy": "2024-05-13T20:26:29.153599Z",
     "iopub.status.idle": "2024-05-13T20:26:40.465773Z",
     "shell.execute_reply": "2024-05-13T20:26:40.464989Z",
     "shell.execute_reply.started": "2024-05-13T20:26:29.153803Z"
    }
   },
   "outputs": [
    {
     "data": {
      "application/vnd.jupyter.widget-view+json": {
       "model_id": "c5b4d7c95ada436eaa3a93cc68db6b0d",
       "version_major": 2,
       "version_minor": 0
      },
      "text/plain": [
       "VBox()"
      ]
     },
     "metadata": {},
     "output_type": "display_data"
    },
    {
     "data": {
      "application/vnd.jupyter.widget-view+json": {
       "model_id": "",
       "version_major": 2,
       "version_minor": 0
      },
      "text/plain": [
       "FloatProgress(value=0.0, bar_style='info', description='Progress:', layout=Layout(height='25px', width='50%'),…"
      ]
     },
     "metadata": {},
     "output_type": "display_data"
    },
    {
     "name": "stdout",
     "output_type": "stream",
     "text": [
      "DataFrame saved as CSV to S3: s3://sm-studio-bucket/SuperMarketSalesAnalysisOutput/train_output"
     ]
    }
   ],
   "source": [
    "#Storing modified train data into studio s3 bucket\n",
    "output_path = \"s3://sm-studio-bucket/SuperMarketSalesAnalysisOutput/train_output\"\n",
    "\n",
    "# Write DataFrame to CSV format\n",
    "train.write.csv(output_path, mode='overwrite', header=True)\n",
    "\n",
    "# Print confirmation message\n",
    "print(\"DataFrame saved as CSV to S3:\", output_path)"
   ]
  },
  {
   "cell_type": "code",
   "execution_count": 19,
   "id": "90ea51ee-77b2-4f78-a724-e73ba41df14e",
   "metadata": {
    "execution": {
     "iopub.execute_input": "2024-05-13T20:34:35.800924Z",
     "iopub.status.busy": "2024-05-13T20:34:35.800699Z",
     "iopub.status.idle": "2024-05-13T20:34:36.560479Z",
     "shell.execute_reply": "2024-05-13T20:34:36.559831Z",
     "shell.execute_reply.started": "2024-05-13T20:34:35.800900Z"
    },
    "tags": []
   },
   "outputs": [
    {
     "data": {
      "application/vnd.jupyter.widget-view+json": {
       "model_id": "e0ef55a4e1a8481ba1011dbadff0fdde",
       "version_major": 2,
       "version_minor": 0
      },
      "text/plain": [
       "VBox()"
      ]
     },
     "metadata": {},
     "output_type": "display_data"
    },
    {
     "data": {
      "application/vnd.jupyter.widget-view+json": {
       "model_id": "",
       "version_major": 2,
       "version_minor": 0
      },
      "text/plain": [
       "FloatProgress(value=0.0, bar_style='info', description='Progress:', layout=Layout(height='25px', width='50%'),…"
      ]
     },
     "metadata": {},
     "output_type": "display_data"
    }
   ],
   "source": [
    "from pyspark.ml.regression import RandomForestRegressor, GBTRegressor, LinearRegression\n",
    "from pyspark.ml.evaluation import RegressionEvaluator\n",
    "from pyspark.ml.feature import VectorAssembler\n",
    "\n",
    "feature_columns = ['Store', 'IsHoliday', 'Dept', 'Type', 'Size', 'Temperature', 'Fuel_Price', 'CPI', 'Unemployment', 'week', 'month', 'year']\n",
    "assembler = VectorAssembler(inputCols=feature_columns, outputCol=\"features\", handleInvalid=\"keep\")\n",
    "\n",
    "train_data = assembler.transform(train)\n",
    "test_data = assembler.transform(test)"
   ]
  },
  {
   "cell_type": "code",
   "execution_count": 20,
   "id": "01fd4c5a-227b-487e-b0a9-cf3f6eeea6da",
   "metadata": {
    "execution": {
     "iopub.execute_input": "2024-05-13T20:35:10.718557Z",
     "iopub.status.busy": "2024-05-13T20:35:10.718336Z",
     "iopub.status.idle": "2024-05-13T20:35:48.301960Z",
     "shell.execute_reply": "2024-05-13T20:35:48.301243Z",
     "shell.execute_reply.started": "2024-05-13T20:35:10.718533Z"
    }
   },
   "outputs": [
    {
     "data": {
      "application/vnd.jupyter.widget-view+json": {
       "model_id": "1b353d10af994d51a39f71f12341261e",
       "version_major": 2,
       "version_minor": 0
      },
      "text/plain": [
       "VBox()"
      ]
     },
     "metadata": {},
     "output_type": "display_data"
    },
    {
     "data": {
      "application/vnd.jupyter.widget-view+json": {
       "model_id": "",
       "version_major": 2,
       "version_minor": 0
      },
      "text/plain": [
       "FloatProgress(value=0.0, bar_style='info', description='Progress:', layout=Layout(height='25px', width='50%'),…"
      ]
     },
     "metadata": {},
     "output_type": "display_data"
    }
   ],
   "source": [
    "#Random Forest\n",
    "rf1 = RandomForestRegressor(featuresCol=\"features\", labelCol=\"Weekly_Sales\", seed=42)\n",
    "rf1_model = rf1.fit(train_data)\n",
    "\n",
    "# Gradient Boosted Trees (GBT)\n",
    "gbt = GBTRegressor(featuresCol=\"features\", labelCol=\"Weekly_Sales\", maxIter=10)\n",
    "gbt_model = gbt.fit(train_data)\n",
    "\n",
    "# Linear Regression\n",
    "lr = LinearRegression(featuresCol=\"features\", labelCol=\"Weekly_Sales\")\n",
    "lr_model = lr.fit(train_data)"
   ]
  },
  {
   "cell_type": "code",
   "execution_count": 21,
   "id": "ac10eb17-ea4f-4c46-bcf0-ac8e7e54c687",
   "metadata": {
    "execution": {
     "iopub.execute_input": "2024-05-13T20:36:14.646134Z",
     "iopub.status.busy": "2024-05-13T20:36:14.645911Z",
     "iopub.status.idle": "2024-05-13T20:36:21.961075Z",
     "shell.execute_reply": "2024-05-13T20:36:21.960033Z",
     "shell.execute_reply.started": "2024-05-13T20:36:14.646110Z"
    }
   },
   "outputs": [
    {
     "data": {
      "application/vnd.jupyter.widget-view+json": {
       "model_id": "9bf8b10708274c53b6a5355d349573d4",
       "version_major": 2,
       "version_minor": 0
      },
      "text/plain": [
       "VBox()"
      ]
     },
     "metadata": {},
     "output_type": "display_data"
    },
    {
     "data": {
      "application/vnd.jupyter.widget-view+json": {
       "model_id": "",
       "version_major": 2,
       "version_minor": 0
      },
      "text/plain": [
       "FloatProgress(value=0.0, bar_style='info', description='Progress:', layout=Layout(height='25px', width='50%'),…"
      ]
     },
     "metadata": {},
     "output_type": "display_data"
    },
    {
     "name": "stdout",
     "output_type": "stream",
     "text": [
      "Random Forest RMSE on training data: 17797.144800390153\n",
      "GBT RMSE on training data: 14568.126646652017\n",
      "Linear Regression RMSE on training data: 21704.703985619417"
     ]
    }
   ],
   "source": [
    "# Step: Model Evaluation\n",
    "evaluator = RegressionEvaluator(labelCol=\"Weekly_Sales\", predictionCol=\"prediction\", metricName=\"rmse\")\n",
    "\n",
    "# Evaluate Random Forest\n",
    "rf1_predictions = rf1_model.transform(train_data)\n",
    "rf1_rmse = evaluator.evaluate(rf1_predictions)\n",
    "print(\"Random Forest RMSE on training data:\", rf1_rmse)\n",
    "\n",
    "# Evaluate Gradient Boosted Trees (GBT)\n",
    "gbt_predictions = gbt_model.transform(train_data)\n",
    "gbt_rmse = evaluator.evaluate(gbt_predictions)\n",
    "print(\"GBT RMSE on training data:\", gbt_rmse)\n",
    "\n",
    "# Evaluate Linear Regression\n",
    "lr_predictions = lr_model.transform(train_data)\n",
    "lr_rmse = evaluator.evaluate(lr_predictions)\n",
    "print(\"Linear Regression RMSE on training data:\", lr_rmse)"
   ]
  },
  {
   "cell_type": "code",
   "execution_count": 22,
   "id": "b54adc7d-c435-49a3-aee3-4fdfcdb31f56",
   "metadata": {
    "execution": {
     "iopub.execute_input": "2024-05-13T20:39:50.729388Z",
     "iopub.status.busy": "2024-05-13T20:39:50.729140Z",
     "iopub.status.idle": "2024-05-13T20:39:50.776901Z",
     "shell.execute_reply": "2024-05-13T20:39:50.776189Z",
     "shell.execute_reply.started": "2024-05-13T20:39:50.729361Z"
    }
   },
   "outputs": [
    {
     "data": {
      "application/vnd.jupyter.widget-view+json": {
       "model_id": "dc8d01539ff94c5f9265a7d38b001fee",
       "version_major": 2,
       "version_minor": 0
      },
      "text/plain": [
       "VBox()"
      ]
     },
     "metadata": {},
     "output_type": "display_data"
    },
    {
     "data": {
      "application/vnd.jupyter.widget-view+json": {
       "model_id": "",
       "version_major": 2,
       "version_minor": 0
      },
      "text/plain": [
       "FloatProgress(value=0.0, bar_style='info', description='Progress:', layout=Layout(height='25px', width='50%'),…"
      ]
     },
     "metadata": {},
     "output_type": "display_data"
    },
    {
     "name": "stdout",
     "output_type": "stream",
     "text": [
      "Best Model :GBT 14568.126646652017"
     ]
    }
   ],
   "source": [
    "# Step: Model Selection\n",
    "best_model = None\n",
    "if rf1_rmse <= gbt_rmse and rf1_rmse <= lr_rmse:\n",
    "    best_model = rf1_model\n",
    "    print(\"Best Model :Random Forest\", rf1_rmse)\n",
    "elif gbt_rmse <= rf1_rmse and gbt_rmse <= lr_rmse:\n",
    "    best_model = gbt_model\n",
    "    print(\"Best Model :GBT\", gbt_rmse)\n",
    "else:\n",
    "    best_model = lr_model\n",
    "    print(\"Best Model :Linear Regression\", lr_rmse)"
   ]
  },
  {
   "cell_type": "code",
   "execution_count": 23,
   "id": "e14092e6-c8c0-4440-80eb-edd2e0bbb4a3",
   "metadata": {
    "execution": {
     "iopub.execute_input": "2024-05-13T20:39:57.800069Z",
     "iopub.status.busy": "2024-05-13T20:39:57.799829Z",
     "iopub.status.idle": "2024-05-13T20:40:07.109561Z",
     "shell.execute_reply": "2024-05-13T20:40:07.108637Z",
     "shell.execute_reply.started": "2024-05-13T20:39:57.800043Z"
    }
   },
   "outputs": [
    {
     "data": {
      "application/vnd.jupyter.widget-view+json": {
       "model_id": "cdbb1229eeea496780e173d657bbfe65",
       "version_major": 2,
       "version_minor": 0
      },
      "text/plain": [
       "VBox()"
      ]
     },
     "metadata": {},
     "output_type": "display_data"
    },
    {
     "data": {
      "application/vnd.jupyter.widget-view+json": {
       "model_id": "",
       "version_major": 2,
       "version_minor": 0
      },
      "text/plain": [
       "FloatProgress(value=0.0, bar_style='info', description='Progress:', layout=Layout(height='25px', width='50%'),…"
      ]
     },
     "metadata": {},
     "output_type": "display_data"
    },
    {
     "name": "stdout",
     "output_type": "stream",
     "text": [
      "+-----+----------+---------+----+----+------+-----------+----------+-----------+------------+----+-----+----+--------------------+------------------+\n",
      "|Store|      Date|IsHoliday|Dept|Type|  Size|Temperature|Fuel_Price|        CPI|Unemployment|week|month|year|            features|        prediction|\n",
      "+-----+----------+---------+----+----+------+-----------+----------+-----------+------------+----+-----+----+--------------------+------------------+\n",
      "|    1|2012-11-02|    false|   1|   1|151315|      55.32|     3.386|223.4627793|       6.573|  44|   11|2012|[1.0,0.0,1.0,1.0,...|33993.018829402834|\n",
      "|    1|2012-11-09|    false|   1|   1|151315|      61.24|     3.314|223.4813073|       6.573|  45|   11|2012|[1.0,0.0,1.0,1.0,...|33993.018829402834|\n",
      "|    1|2012-11-16|    false|   1|   1|151315|      52.92|     3.252|223.5129105|       6.573|  46|   11|2012|[1.0,0.0,1.0,1.0,...| 34453.29276501201|\n",
      "|    1|2012-11-23|     true|   1|   1|151315|      56.23|     3.211|223.5619474|       6.573|  47|   11|2012|[1.0,1.0,1.0,1.0,...| 34831.95169389938|\n",
      "|    1|2012-11-30|    false|   1|   1|151315|      52.34|     3.207|223.6109842|       6.573|  48|   11|2012|[1.0,0.0,1.0,1.0,...| 35501.71924763424|\n",
      "+-----+----------+---------+----+----+------+-----------+----------+-----------+------------+----+-----+----+--------------------+------------------+\n",
      "only showing top 5 rows"
     ]
    }
   ],
   "source": [
    "# Predict on test data using the best model\n",
    "best_model_predictions = best_model.transform(test_data)\n",
    "best_model_predictions.show(5)"
   ]
  },
  {
   "cell_type": "code",
   "execution_count": 25,
   "id": "316ed6b7-f279-468a-9e7c-32583cc3ab57",
   "metadata": {
    "execution": {
     "iopub.execute_input": "2024-05-13T20:42:43.740622Z",
     "iopub.status.busy": "2024-05-13T20:42:43.740403Z",
     "iopub.status.idle": "2024-05-13T20:42:43.999385Z",
     "shell.execute_reply": "2024-05-13T20:42:43.998554Z",
     "shell.execute_reply.started": "2024-05-13T20:42:43.740599Z"
    },
    "tags": []
   },
   "outputs": [
    {
     "data": {
      "application/vnd.jupyter.widget-view+json": {
       "model_id": "a1ef1a2bd2374d80aa926e82c5f05070",
       "version_major": 2,
       "version_minor": 0
      },
      "text/plain": [
       "VBox()"
      ]
     },
     "metadata": {},
     "output_type": "display_data"
    },
    {
     "data": {
      "application/vnd.jupyter.widget-view+json": {
       "model_id": "",
       "version_major": 2,
       "version_minor": 0
      },
      "text/plain": [
       "FloatProgress(value=0.0, bar_style='info', description='Progress:', layout=Layout(height='25px', width='50%'),…"
      ]
     },
     "metadata": {},
     "output_type": "display_data"
    }
   ],
   "source": [
    "# Rename the \"prediction\" column to \"Weekly_Sales_Prediction\"\n",
    "best_model_predictions = best_model_predictions.withColumnRenamed(\"prediction\", \"Weekly_Sales_Prediction\")\n",
    "\n",
    "# Dropping features vector column from pedicted dataframe\n",
    "best_model_predictions = best_model_predictions.drop(\"features\")"
   ]
  },
  {
   "cell_type": "code",
   "execution_count": 26,
   "id": "b8033f64-77aa-442b-99a0-2ffb884b5d4e",
   "metadata": {
    "execution": {
     "iopub.execute_input": "2024-05-13T20:43:36.360588Z",
     "iopub.status.busy": "2024-05-13T20:43:36.360260Z",
     "iopub.status.idle": "2024-05-13T20:43:47.687238Z",
     "shell.execute_reply": "2024-05-13T20:43:47.686445Z",
     "shell.execute_reply.started": "2024-05-13T20:43:36.360547Z"
    }
   },
   "outputs": [
    {
     "data": {
      "application/vnd.jupyter.widget-view+json": {
       "model_id": "24132f30c8af4f1ab40f315d707b9d77",
       "version_major": 2,
       "version_minor": 0
      },
      "text/plain": [
       "VBox()"
      ]
     },
     "metadata": {},
     "output_type": "display_data"
    },
    {
     "data": {
      "application/vnd.jupyter.widget-view+json": {
       "model_id": "",
       "version_major": 2,
       "version_minor": 0
      },
      "text/plain": [
       "FloatProgress(value=0.0, bar_style='info', description='Progress:', layout=Layout(height='25px', width='50%'),…"
      ]
     },
     "metadata": {},
     "output_type": "display_data"
    },
    {
     "name": "stdout",
     "output_type": "stream",
     "text": [
      "root\n",
      " |-- Store: integer (nullable = true)\n",
      " |-- Date: date (nullable = true)\n",
      " |-- IsHoliday: boolean (nullable = true)\n",
      " |-- Dept: integer (nullable = true)\n",
      " |-- Type: integer (nullable = true)\n",
      " |-- Size: integer (nullable = true)\n",
      " |-- Temperature: double (nullable = true)\n",
      " |-- Fuel_Price: double (nullable = true)\n",
      " |-- CPI: double (nullable = true)\n",
      " |-- Unemployment: double (nullable = true)\n",
      " |-- week: integer (nullable = true)\n",
      " |-- month: integer (nullable = true)\n",
      " |-- year: integer (nullable = true)\n",
      " |-- Weekly_Sales_Prediction: double (nullable = false)\n",
      "\n",
      "+-----+----------+---------+----+----+------+-----------+----------+-----------+------------+----+-----+----+-----------------------+\n",
      "|Store|      Date|IsHoliday|Dept|Type|  Size|Temperature|Fuel_Price|        CPI|Unemployment|week|month|year|Weekly_Sales_Prediction|\n",
      "+-----+----------+---------+----+----+------+-----------+----------+-----------+------------+----+-----+----+-----------------------+\n",
      "|    1|2012-11-02|    false|   1|   1|151315|      55.32|     3.386|223.4627793|       6.573|  44|   11|2012|     33993.018829402834|\n",
      "|    1|2012-11-09|    false|   1|   1|151315|      61.24|     3.314|223.4813073|       6.573|  45|   11|2012|     33993.018829402834|\n",
      "|    1|2012-11-16|    false|   1|   1|151315|      52.92|     3.252|223.5129105|       6.573|  46|   11|2012|      34453.29276501201|\n",
      "|    1|2012-11-23|     true|   1|   1|151315|      56.23|     3.211|223.5619474|       6.573|  47|   11|2012|      34831.95169389938|\n",
      "|    1|2012-11-30|    false|   1|   1|151315|      52.34|     3.207|223.6109842|       6.573|  48|   11|2012|      35501.71924763424|\n",
      "+-----+----------+---------+----+----+------+-----------+----------+-----------+------------+----+-----+----+-----------------------+\n",
      "only showing top 5 rows"
     ]
    }
   ],
   "source": [
    "best_model_predictions.printSchema()\n",
    "best_model_predictions.show(5)"
   ]
  },
  {
   "cell_type": "code",
   "execution_count": 27,
   "id": "d0044cb9-4d23-42c0-abea-b3178bbb8a16",
   "metadata": {
    "execution": {
     "iopub.execute_input": "2024-05-13T20:44:42.360365Z",
     "iopub.status.busy": "2024-05-13T20:44:42.360144Z",
     "iopub.status.idle": "2024-05-13T20:44:47.653745Z",
     "shell.execute_reply": "2024-05-13T20:44:47.652914Z",
     "shell.execute_reply.started": "2024-05-13T20:44:42.360341Z"
    }
   },
   "outputs": [
    {
     "data": {
      "application/vnd.jupyter.widget-view+json": {
       "model_id": "a5f1b5fdf8414a9fa56543abd21b26ba",
       "version_major": 2,
       "version_minor": 0
      },
      "text/plain": [
       "VBox()"
      ]
     },
     "metadata": {},
     "output_type": "display_data"
    },
    {
     "data": {
      "application/vnd.jupyter.widget-view+json": {
       "model_id": "",
       "version_major": 2,
       "version_minor": 0
      },
      "text/plain": [
       "FloatProgress(value=0.0, bar_style='info', description='Progress:', layout=Layout(height='25px', width='50%'),…"
      ]
     },
     "metadata": {},
     "output_type": "display_data"
    },
    {
     "name": "stdout",
     "output_type": "stream",
     "text": [
      "DataFrame saved as CSV to S3: s3://sm-studio-bucket/SuperMarketSalesAnalysisOutput/Weekly_Sales_Prediction"
     ]
    }
   ],
   "source": [
    "output_path = \"s3://sm-studio-bucket/SuperMarketSalesAnalysisOutput/Weekly_Sales_Prediction\"\n",
    "\n",
    "# Write DataFrame to CSV format\n",
    "best_model_predictions.write.csv(output_path, mode='overwrite', header=True)\n",
    "\n",
    "# Print confirmation message\n",
    "print(\"DataFrame saved as CSV to S3:\", output_path)"
   ]
  },
  {
   "cell_type": "code",
   "execution_count": 28,
   "id": "c799b6ee-24f0-4a30-8c0f-a4d7f4b4e225",
   "metadata": {
    "execution": {
     "iopub.execute_input": "2024-05-13T20:45:22.664743Z",
     "iopub.status.busy": "2024-05-13T20:45:22.664515Z",
     "iopub.status.idle": "2024-05-13T20:45:29.958521Z",
     "shell.execute_reply": "2024-05-13T20:45:29.957777Z",
     "shell.execute_reply.started": "2024-05-13T20:45:22.664718Z"
    }
   },
   "outputs": [
    {
     "data": {
      "application/vnd.jupyter.widget-view+json": {
       "model_id": "209d0757d5d844d09548e372ac470451",
       "version_major": 2,
       "version_minor": 0
      },
      "text/plain": [
       "VBox()"
      ]
     },
     "metadata": {},
     "output_type": "display_data"
    },
    {
     "data": {
      "application/vnd.jupyter.widget-view+json": {
       "model_id": "",
       "version_major": 2,
       "version_minor": 0
      },
      "text/plain": [
       "FloatProgress(value=0.0, bar_style='info', description='Progress:', layout=Layout(height='25px', width='50%'),…"
      ]
     },
     "metadata": {},
     "output_type": "display_data"
    },
    {
     "name": "stdout",
     "output_type": "stream",
     "text": [
      "+------------+--------------------+\n",
      "|     feature|          importance|\n",
      "+------------+--------------------+\n",
      "|        Dept|  0.5528327195116828|\n",
      "|        Size| 0.23403628945486493|\n",
      "|       Store| 0.11440820945889783|\n",
      "|         CPI|0.052055876865314765|\n",
      "|        week|0.021518288609701425|\n",
      "|        Type|0.010311545266652839|\n",
      "|Unemployment|0.008844330467123305|\n",
      "|   IsHoliday|0.005167528294792795|\n",
      "|        year|7.411211431310309E-4|\n",
      "| Temperature| 7.61302973249225E-5|\n",
      "|  Fuel_Price|7.960630513511024E-6|\n",
      "|       month|                 0.0|\n",
      "+------------+--------------------+"
     ]
    }
   ],
   "source": [
    "from pyspark.sql.types import StructType, StructField, StringType, DoubleType\n",
    "bm_feature_importance = best_model.featureImportances\n",
    "# Calculating feature importance using best model\n",
    "importance_data = [(feature, float(importance)) for feature, importance in zip(feature_columns, bm_feature_importance)]\n",
    "\n",
    "# Define the schema with explicit data types\n",
    "schema = StructType([\n",
    "    StructField(\"feature\", StringType(), True),\n",
    "    StructField(\"importance\", DoubleType(), True)\n",
    "])\n",
    "\n",
    "# Create the DataFrame with the defined schema\n",
    "importance_df = spark.createDataFrame(importance_data, schema)\n",
    "\n",
    "# Sort the DataFrame by importance in descending order\n",
    "importance_df = importance_df.orderBy(col(\"importance\").desc())\n",
    "importance_df.show()"
   ]
  },
  {
   "cell_type": "code",
   "execution_count": 29,
   "id": "4b676f7a-07ec-4d48-9e35-938ad38f092c",
   "metadata": {
    "execution": {
     "iopub.execute_input": "2024-05-13T20:46:13.550478Z",
     "iopub.status.busy": "2024-05-13T20:46:13.550251Z",
     "iopub.status.idle": "2024-05-13T20:46:15.824062Z",
     "shell.execute_reply": "2024-05-13T20:46:15.823338Z",
     "shell.execute_reply.started": "2024-05-13T20:46:13.550453Z"
    }
   },
   "outputs": [
    {
     "data": {
      "application/vnd.jupyter.widget-view+json": {
       "model_id": "1d8d4400462e4088a17c2507734c4ae9",
       "version_major": 2,
       "version_minor": 0
      },
      "text/plain": [
       "VBox()"
      ]
     },
     "metadata": {},
     "output_type": "display_data"
    },
    {
     "data": {
      "application/vnd.jupyter.widget-view+json": {
       "model_id": "",
       "version_major": 2,
       "version_minor": 0
      },
      "text/plain": [
       "FloatProgress(value=0.0, bar_style='info', description='Progress:', layout=Layout(height='25px', width='50%'),…"
      ]
     },
     "metadata": {},
     "output_type": "display_data"
    },
    {
     "name": "stdout",
     "output_type": "stream",
     "text": [
      "DataFrame saved as CSV to S3: s3://sm-studio-bucket/SuperMarketSalesAnalysisOutput/feature_importance"
     ]
    }
   ],
   "source": [
    "#Storing feature importance into studio s3 bucket\n",
    "#S3 bucket output path\n",
    "output_path = \"s3://sm-studio-bucket/SuperMarketSalesAnalysisOutput/feature_importance\"\n",
    "\n",
    "# Write DataFrame to CSV format\n",
    "importance_df.write.csv(output_path, mode='overwrite', header=True)\n",
    "\n",
    "# Print confirmation message\n",
    "print(\"DataFrame saved as CSV to S3:\", output_path)"
   ]
  },
  {
   "cell_type": "code",
   "execution_count": null,
   "id": "84914352-718c-4b95-a73f-991e72e43ce0",
   "metadata": {},
   "outputs": [],
   "source": []
  }
 ],
 "metadata": {
  "kernelspec": {
   "display_name": "PySpark",
   "language": "python",
   "name": "pysparkkernel"
  },
  "language_info": {
   "codemirror_mode": {
    "name": "python",
    "version": 3
   },
   "file_extension": ".py",
   "mimetype": "text/x-python",
   "name": "pyspark",
   "pygments_lexer": "python3"
  }
 },
 "nbformat": 4,
 "nbformat_minor": 5
}
